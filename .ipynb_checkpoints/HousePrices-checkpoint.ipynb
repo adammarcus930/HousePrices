{
 "cells": [
  {
   "cell_type": "code",
   "execution_count": 1,
   "metadata": {},
   "outputs": [],
   "source": [
    "#import packages\n",
    "import numpy as np\n",
    "import matplotlib.pyplot as plt\n",
    "import pandas as pd\n",
    "import seaborn as sns\n",
    "from scipy import stats"
   ]
  },
  {
   "cell_type": "code",
   "execution_count": 2,
   "metadata": {},
   "outputs": [],
   "source": [
    "#Import data\n",
    "#Import data\n",
    "train = pd.read_csv('SupportingFiles/train.csv')\n",
    "test = pd.read_csv('SupportingFiles/test.csv')\n",
    "# Get Ids for test\n",
    "test_ids = test[[\"Id\"]]\n",
    "#combine so we dont have to adjust both sets\n",
    "combine =  pd.concat([train,test], sort = 'True')\n",
    "#Drop all Ids\n",
    "combine.drop(columns=['Id'], inplace= True)\n",
    "#get independent variable for sale price\n",
    "y = train['SalePrice']"
   ]
  },
  {
   "cell_type": "markdown",
   "metadata": {},
   "source": [
    "# Data Cleaning\n",
    "- Remove Nulls\n",
    "- Normalize Data\n",
    "-  Eliminate Correlated Attributes"
   ]
  },
  {
   "cell_type": "code",
   "execution_count": 3,
   "metadata": {},
   "outputs": [
    {
     "name": "stdout",
     "output_type": "stream",
     "text": [
      "Alley           93.216855\n",
      "BsmtCond         2.809181\n",
      "BsmtExposure     2.809181\n",
      "BsmtFinSF1       0.034258\n",
      "BsmtFinSF2       0.034258\n",
      "BsmtFinType1     2.706406\n",
      "BsmtFinType2     2.740665\n",
      "BsmtFullBath     0.068517\n",
      "BsmtHalfBath     0.068517\n",
      "BsmtQual         2.774923\n",
      "BsmtUnfSF        0.034258\n",
      "Electrical       0.034258\n",
      "Exterior1st      0.034258\n",
      "Exterior2nd      0.034258\n",
      "Fence           80.438506\n",
      "FireplaceQu     48.646797\n",
      "Functional       0.068517\n",
      "GarageArea       0.034258\n",
      "GarageCars       0.034258\n",
      "GarageCond       5.447071\n",
      "GarageFinish     5.447071\n",
      "GarageQual       5.447071\n",
      "GarageType       5.378554\n",
      "GarageYrBlt      5.447071\n",
      "KitchenQual      0.034258\n",
      "LotFrontage     16.649538\n",
      "MSZoning         0.137033\n",
      "MasVnrArea       0.787941\n",
      "MasVnrType       0.822199\n",
      "MiscFeature     96.402878\n",
      "PoolQC          99.657417\n",
      "SalePrice       49.982871\n",
      "SaleType         0.034258\n",
      "TotalBsmtSF      0.034258\n",
      "Utilities        0.068517\n",
      "dtype: float64\n"
     ]
    }
   ],
   "source": [
    "# Check to see what data has null values\n",
    "nulls= combine.isnull().sum()/len(combine) * 100\n",
    "print(nulls[nulls > 0])"
   ]
  },
  {
   "cell_type": "code",
   "execution_count": 4,
   "metadata": {},
   "outputs": [],
   "source": [
    "# Take care of null values\n",
    "\n",
    "# Lot Frontage is repalced with median\n",
    "combine['LotFrontage'].fillna(train['LotFrontage'].median(), inplace=True)\n",
    "\n",
    "# Alley way nulls are replaced with \"None\"\n",
    "combine['Alley'].fillna('none',inplace=True)\n",
    "\n",
    "# Garage Year Built is replaced with yearbuilt if it is null\n",
    "combine['GarageYrBlt'].fillna(train['YearBuilt'], inplace=True)\n",
    "\n",
    "# Fill MasVnrARea with 0 and msnvnr type with none\n",
    "combine['MasVnrArea'].fillna(0, inplace=True)\n",
    "combine['MasVnrType'].fillna('none',inplace=True)\n",
    "\n",
    "# Change basement values to none\n",
    "combine['BsmtQual'].fillna('none',inplace=True)\n",
    "combine['BsmtCond'].fillna('none',inplace=True)\n",
    "combine['BsmtExposure'].fillna('none',inplace=True)\n",
    "combine['BsmtFinType1'].fillna('none',inplace=True)\n",
    "combine['BsmtFinType2'].fillna('none',inplace=True)\n",
    "\n",
    "# Electrical replace with mode\n",
    "combine['Electrical'].fillna(train['Electrical'].mode()[0], inplace=True)\n",
    "\n",
    "# Replace nulls with none for fireplace\n",
    "combine['FireplaceQu'].fillna('none',inplace=True)\n",
    "\n",
    "# Replace nulls with none for garage attributes\n",
    "combine['GarageType'].fillna('none',inplace=True)\n",
    "combine['GarageFinish'].fillna('none',inplace=True)\n",
    "combine['GarageQual'].fillna('none',inplace=True)\n",
    "combine['GarageCond'].fillna('none',inplace=True)\n",
    "\n",
    "# PoolQC nulls filled with none\n",
    "combine['PoolQC'].fillna('none',inplace=True)\n",
    "\n",
    "# Fence nulls filled with none\n",
    "combine['Fence'].fillna('none',inplace=True)\n",
    "\n",
    "# Miscellaneious feature nulls filled with none\n",
    "combine['MiscFeature'].fillna('none',inplace=True)\n",
    "\n",
    "# Others:\n",
    "combine['Utilities'].fillna(combine['Utilities'].mode()[0], inplace=True)\n",
    "combine['Exterior1st'].fillna(combine['Exterior1st'].mode()[0], inplace=True)\n",
    "combine['Exterior2nd'].fillna(combine['Exterior2nd'].mode()[0], inplace=True)\n",
    "combine['KitchenQual'].fillna(combine['KitchenQual'].mode()[0], inplace=True)\n",
    "combine['SaleType'].fillna(combine['SaleType'].mode()[0], inplace=True)\n",
    "combine['Functional'].fillna(combine['Functional'].mode()[0], inplace=True)\n",
    "combine['MSZoning'].fillna(combine['MSZoning'].mode()[0], inplace=True)\n",
    "combine['BsmtFinSF1'].fillna(combine['BsmtFinSF1'].median(), inplace=True)\n",
    "combine['BsmtFullBath'].fillna(combine['BsmtFullBath'].median(), inplace=True)\n",
    "combine['GarageCars'].fillna(combine['GarageCars'].mode()[0], inplace=True)\n",
    "combine['BsmtFinSF2'].fillna(combine['BsmtFinSF2'].median(), inplace=True)\n",
    "combine['BsmtHalfBath'].fillna(combine['BsmtHalfBath'].median(), inplace=True)\n",
    "combine['GarageArea'].fillna(combine['GarageArea'].mode()[0], inplace=True)\n",
    "combine['BsmtUnfSF'].fillna(combine['BsmtUnfSF'].median(), inplace=True)\n",
    "combine['TotalBsmtSF'].fillna(combine['TotalBsmtSF'].median(), inplace=True)"
   ]
  },
  {
   "cell_type": "code",
   "execution_count": 5,
   "metadata": {},
   "outputs": [
    {
     "name": "stdout",
     "output_type": "stream",
     "text": [
      "SalePrice    49.982871\n",
      "dtype: float64\n"
     ]
    }
   ],
   "source": [
    "# Check nulls again\n",
    "nulls= combine.isnull().sum()/len(combine) * 100\n",
    "print(nulls[nulls > 0])"
   ]
  },
  {
   "cell_type": "code",
   "execution_count": 6,
   "metadata": {},
   "outputs": [],
   "source": [
    "#Split Training data\n",
    "train = combine[combine['SalePrice'].notnull()]"
   ]
  },
  {
   "cell_type": "code",
   "execution_count": 7,
   "metadata": {},
   "outputs": [
    {
     "data": {
      "image/png": "[encoded data removed]",
      "text/plain": [
       "<Figure size 1152x720 with 7 Axes>"
      ]
     },
     "metadata": {
      "needs_background": "light"
     },
     "output_type": "display_data"
    }
   ],
   "source": [
    "# Check Distrbutions for ouliers numerical data\n",
    "plt.figure(figsize= (16,10))\n",
    "fig= plt.subplot\n",
    "plt.subplots_adjust(hspace = 0.4)\n",
    "plt.subplot(421)\n",
    "sns.distplot(train['TotalBsmtSF'])\n",
    "\n",
    "\n",
    "plt.subplot(422)\n",
    "sns.distplot(train['1stFlrSF'])\n",
    "\n",
    "\n",
    "plt.subplot(423)\n",
    "sns.distplot(train['MasVnrArea'])\n",
    "\n",
    "\n",
    "plt.subplot(424)\n",
    "sns.distplot(train['LotFrontage'])\n",
    "\n",
    "\n",
    "plt.subplot(425)\n",
    "sns.distplot(train['WoodDeckSF'])\n",
    "\n",
    "\n",
    "plt.subplot(426)\n",
    "sns.distplot(train['2ndFlrSF'])\n",
    "\n",
    "\n",
    "plt.subplot(427)\n",
    "sns.distplot(train['OpenPorchSF'])\n",
    "\n",
    "\n",
    "\n",
    "plt.show()"
   ]
  },
  {
   "cell_type": "code",
   "execution_count": 8,
   "metadata": {},
   "outputs": [],
   "source": [
    "#Based on distributions apply normalization:\n",
    "\n",
    "#TotalBsmtSF\n",
    "# Whether there is a basement or not is significant so we will make this its own column\n",
    "#combine['TotalBsmtSF_Y'] = np.where(combine['TotalBsmtSF'] > 0, 1, 0)\n",
    "combine['TotalBsmtSF'] = combine['TotalBsmtSF'] + 1\n",
    "combine['TotalBsmtSF'] = np.log(combine['TotalBsmtSF'])\n",
    "\n",
    "#1stFlrSF\n",
    "combine['1stFlrSF'] = np.log(combine['1stFlrSF'])\n",
    "\n",
    "#MasVnRArea\n",
    "# Whether there is a Masonry Vaneer or not is significant so we will make this its own column\n",
    "#combine['MasVnrArea_Y'] = np.where(combine['MasVnrArea'] > 0, 1, 0)\n",
    "combine['MasVnrArea'] = combine['MasVnrArea'] + 1\n",
    "combine['MasVnrArea'] = np.log(combine['MasVnrArea'])\n",
    "                               \n",
    "#LotFrontage\n",
    "combine['LotFrontage'] = np.log(combine['LotFrontage'])                               \n",
    "\n",
    "#WoodDeckSF\n",
    "# Whether there is a deck or not is significant so we will make this its own column\n",
    "#combine['WoodDeckSF_Y'] = np.where(combine['WoodDeckSF'] > 0, 1, 0)\n",
    "combine['WoodDeckSF'] = combine['WoodDeckSF'] + 1\n",
    "combine['WoodDeckSF'] = np.log(combine['WoodDeckSF'])\n",
    "                               \n",
    "#2ndFlrSF\n",
    "# Whether there is a second floor or not is significant so we will make this its own column\n",
    "#combine['2ndFlrSF_Y'] = np.where(combine['2ndFlrSF'] > 0, 1, 0)\n",
    "combine['2ndFlrSF'] = combine['2ndFlrSF'] + 1\n",
    "combine['2ndFlrSF'] = np.log(combine['2ndFlrSF'])\n",
    "                             \n",
    "#OpenPorchSF\n",
    "# Whether there is a deck or not is significant so we will make this its own column\n",
    "#combine['OpenPorchSF_Y'] = np.where(combine['OpenPorchSF'] > 0, 1, 0)\n",
    "combine['OpenPorchSF'] = combine['OpenPorchSF'] + 1\n",
    "combine['OpenPorchSF'] = np.log(combine['OpenPorchSF'])"
   ]
  },
  {
   "cell_type": "code",
   "execution_count": 9,
   "metadata": {},
   "outputs": [
    {
     "data": {
      "image/png": "[encoded data removed]",
      "text/plain": [
       "<Figure size 1152x720 with 7 Axes>"
      ]
     },
     "metadata": {
      "needs_background": "light"
     },
     "output_type": "display_data"
    }
   ],
   "source": [
    "#Check Distributions again\n",
    "# Check Distrbutions for ouliers numerical data\n",
    "plt.figure(figsize= (16,10))\n",
    "fig= plt.subplot\n",
    "plt.subplots_adjust(hspace = 0.4)\n",
    "plt.subplot(421)\n",
    "sns.distplot(combine['TotalBsmtSF'])\n",
    "\n",
    "\n",
    "plt.subplot(422)\n",
    "sns.distplot(combine['1stFlrSF'])\n",
    "\n",
    "\n",
    "plt.subplot(423)\n",
    "sns.distplot(combine['MasVnrArea'])\n",
    "\n",
    "\n",
    "plt.subplot(424)\n",
    "sns.distplot(combine['LotFrontage'])\n",
    "\n",
    "\n",
    "plt.subplot(425)\n",
    "sns.distplot(combine['WoodDeckSF'])\n",
    "\n",
    "\n",
    "plt.subplot(426)\n",
    "sns.distplot(combine['2ndFlrSF'])\n",
    "\n",
    "\n",
    "plt.subplot(427)\n",
    "sns.distplot(combine['OpenPorchSF'])\n",
    "\n",
    "\n",
    "\n",
    "plt.show()"
   ]
  },
  {
   "cell_type": "code",
   "execution_count": 10,
   "metadata": {},
   "outputs": [
    {
     "data": {
      "text/html": [
       "<div>\n",
       "<style scoped>\n",
       "    .dataframe tbody tr th:only-of-type {\n",
       "        vertical-align: middle;\n",
       "    }\n",
       "\n",
       "    .dataframe tbody tr th {\n",
       "        vertical-align: top;\n",
       "    }\n",
       "\n",
       "    .dataframe thead th {\n",
       "        text-align: right;\n",
       "    }\n",
       "</style>\n",
       "<table border=\"1\" class=\"dataframe\">\n",
       "  <thead>\n",
       "    <tr style=\"text-align: right;\">\n",
       "      <th></th>\n",
       "      <th>Correlation</th>\n",
       "    </tr>\n",
       "  </thead>\n",
       "  <tbody>\n",
       "    <tr>\n",
       "      <th>1stFlrSF</th>\n",
       "      <td>0.605852</td>\n",
       "    </tr>\n",
       "    <tr>\n",
       "      <th>2ndFlrSF</th>\n",
       "      <td>0.319334</td>\n",
       "    </tr>\n",
       "    <tr>\n",
       "      <th>BsmtFinSF1</th>\n",
       "      <td>0.386420</td>\n",
       "    </tr>\n",
       "    <tr>\n",
       "      <th>Fireplaces</th>\n",
       "      <td>0.466929</td>\n",
       "    </tr>\n",
       "    <tr>\n",
       "      <th>FullBath</th>\n",
       "      <td>0.560664</td>\n",
       "    </tr>\n",
       "    <tr>\n",
       "      <th>GarageArea</th>\n",
       "      <td>0.623431</td>\n",
       "    </tr>\n",
       "    <tr>\n",
       "      <th>GarageCars</th>\n",
       "      <td>0.640409</td>\n",
       "    </tr>\n",
       "    <tr>\n",
       "      <th>GarageYrBlt</th>\n",
       "      <td>0.508043</td>\n",
       "    </tr>\n",
       "    <tr>\n",
       "      <th>GrLivArea</th>\n",
       "      <td>0.708624</td>\n",
       "    </tr>\n",
       "    <tr>\n",
       "      <th>LotFrontage</th>\n",
       "      <td>0.334771</td>\n",
       "    </tr>\n",
       "    <tr>\n",
       "      <th>MasVnrArea</th>\n",
       "      <td>0.472614</td>\n",
       "    </tr>\n",
       "    <tr>\n",
       "      <th>OpenPorchSF</th>\n",
       "      <td>0.315856</td>\n",
       "    </tr>\n",
       "    <tr>\n",
       "      <th>OverallQual</th>\n",
       "      <td>0.790982</td>\n",
       "    </tr>\n",
       "    <tr>\n",
       "      <th>SalePrice</th>\n",
       "      <td>1.000000</td>\n",
       "    </tr>\n",
       "    <tr>\n",
       "      <th>TotRmsAbvGrd</th>\n",
       "      <td>0.533723</td>\n",
       "    </tr>\n",
       "    <tr>\n",
       "      <th>TotalBsmtSF</th>\n",
       "      <td>0.613581</td>\n",
       "    </tr>\n",
       "    <tr>\n",
       "      <th>WoodDeckSF</th>\n",
       "      <td>0.324413</td>\n",
       "    </tr>\n",
       "    <tr>\n",
       "      <th>YearBuilt</th>\n",
       "      <td>0.522897</td>\n",
       "    </tr>\n",
       "    <tr>\n",
       "      <th>YearRemodAdd</th>\n",
       "      <td>0.507101</td>\n",
       "    </tr>\n",
       "  </tbody>\n",
       "</table>\n",
       "</div>"
      ],
      "text/plain": [
       "              Correlation\n",
       "1stFlrSF         0.605852\n",
       "2ndFlrSF         0.319334\n",
       "BsmtFinSF1       0.386420\n",
       "Fireplaces       0.466929\n",
       "FullBath         0.560664\n",
       "GarageArea       0.623431\n",
       "GarageCars       0.640409\n",
       "GarageYrBlt      0.508043\n",
       "GrLivArea        0.708624\n",
       "LotFrontage      0.334771\n",
       "MasVnrArea       0.472614\n",
       "OpenPorchSF      0.315856\n",
       "OverallQual      0.790982\n",
       "SalePrice        1.000000\n",
       "TotRmsAbvGrd     0.533723\n",
       "TotalBsmtSF      0.613581\n",
       "WoodDeckSF       0.324413\n",
       "YearBuilt        0.522897\n",
       "YearRemodAdd     0.507101"
      ]
     },
     "execution_count": 10,
     "metadata": {},
     "output_type": "execute_result"
    }
   ],
   "source": [
    "# Find Correlation of attributes to SalePrice\n",
    "traincorr = train.corr()['SalePrice']\n",
    "# convert series to dataframe so it can be sorted using pandas\n",
    "traincorr = pd.DataFrame(traincorr)\n",
    "# correct column label from SalePrice to correlation\n",
    "traincorr.columns = [\"Correlation\"]\n",
    "# Print out the attributes that are correlated to the SalePrice\n",
    "traincorr_sig = traincorr[((traincorr['Correlation'] > .3) | (traincorr['Correlation'] < -.3)) & traincorr['Correlation'].notnull()]\n",
    "traincorr_sig"
   ]
  },
  {
   "cell_type": "markdown",
   "metadata": {},
   "source": [
    "# Simple Linear Regression\n",
    "The first attempt at predicting prices will be using simple linear regression to get a base result"
   ]
  },
  {
   "cell_type": "code",
   "execution_count": 11,
   "metadata": {},
   "outputs": [
    {
     "name": "stderr",
     "output_type": "stream",
     "text": [
      "/usr/local/lib/python3.7/site-packages/pandas/core/frame.py:3940: SettingWithCopyWarning: \n",
      "A value is trying to be set on a copy of a slice from a DataFrame\n",
      "\n",
      "See the caveats in the documentation: http://pandas.pydata.org/pandas-docs/stable/indexing.html#indexing-view-versus-copy\n",
      "  errors=errors)\n"
     ]
    }
   ],
   "source": [
    "# Use only the values that are correlated with SalePrice\n",
    "# Get dummy variables for categorical data\n",
    "combine_linReg = combine[traincorr_sig.index]\n",
    "combine_linReg = pd.get_dummies(combine, drop_first = True)\n",
    "train_linReg = combine_linReg[combine_linReg['SalePrice'].notnull()]\n",
    "test_linReg = combine_linReg[combine_linReg['SalePrice'].isnull()]\n",
    "test_linReg.drop('SalePrice', axis =1, inplace =True)"
   ]
  },
  {
   "cell_type": "code",
   "execution_count": 12,
   "metadata": {},
   "outputs": [
    {
     "name": "stdout",
     "output_type": "stream",
     "text": [
      "MAE: 18855.157894312666\n"
     ]
    }
   ],
   "source": [
    "X = train_linReg.drop('SalePrice', axis =1)\n",
    "\n",
    "from sklearn.model_selection import train_test_split\n",
    "x_train, x_cv, y_train, y_cv = train_test_split(X,y, test_size =0.20)\n",
    "\n",
    "# Fitting multiple linear regression to training set\n",
    "from sklearn.linear_model import LinearRegression\n",
    "model_linReg = LinearRegression()\n",
    "model_linReg.fit(x_train,y_train)\n",
    "\n",
    "# Fit forest regssiotn to training set\n",
    "y_pred = model_linReg.predict(x_cv)\n",
    "\n",
    "import sklearn.metrics as met\n",
    "print(f\"MAE: {met.mean_absolute_error(y_cv,y_pred)}\")"
   ]
  },
  {
   "cell_type": "markdown",
   "metadata": {},
   "source": [
    "# Random Forest Regression\n",
    "<p>"
   ]
  },
  {
   "cell_type": "code",
   "execution_count": 13,
   "metadata": {},
   "outputs": [],
   "source": [
    "# Split data sets into test and train\n",
    "#Get Dummies first so they are consistent\n",
    "combine = pd.get_dummies(combine, drop_first = True)\n",
    "train = combine[combine['SalePrice'].notnull()]\n",
    "test = combine[combine['SalePrice'].isnull()]"
   ]
  },
  {
   "cell_type": "code",
   "execution_count": 14,
   "metadata": {},
   "outputs": [
    {
     "name": "stdout",
     "output_type": "stream",
     "text": [
      "MAE: 17888.486383561645\n"
     ]
    }
   ],
   "source": [
    "# Since we are using Random Forest keep all attributes\n",
    "X = train.drop('SalePrice', axis =1)\n",
    "\n",
    "#Create model and test to see how well it works so far\n",
    "from sklearn.model_selection import train_test_split\n",
    "x_train, x_test, y_train, y_test = train_test_split(X,y, test_size =0.20)\n",
    "\n",
    "# Fit forest regssiotn to training set\n",
    "# Fitting Random Forest Regression to the dataset\n",
    "from sklearn.ensemble import RandomForestRegressor\n",
    "model_forest = RandomForestRegressor(n_estimators = 500)\n",
    "model_forest.fit(x_train,y_train)\n",
    "\n",
    "# Predict for Y\n",
    "y_pred = model_forest.predict(x_test)\n",
    "\n",
    "print(f\"MAE: {met.mean_absolute_error(y_test,y_pred)}\")\n"
   ]
  },
  {
   "cell_type": "code",
   "execution_count": 15,
   "metadata": {},
   "outputs": [
    {
     "name": "stdout",
     "output_type": "stream",
     "text": [
      "Fitting 3 folds for each of 400 candidates, totalling 1200 fits\n"
     ]
    },
    {
     "name": "stderr",
     "output_type": "stream",
     "text": [
      "[Parallel(n_jobs=-1)]: Using backend LokyBackend with 4 concurrent workers.\n",
      "[Parallel(n_jobs=-1)]: Done  42 tasks      | elapsed:   18.0s\n",
      "[Parallel(n_jobs=-1)]: Done 192 tasks      | elapsed:  1.3min\n",
      "[Parallel(n_jobs=-1)]: Done 442 tasks      | elapsed:  3.5min\n",
      "[Parallel(n_jobs=-1)]: Done 792 tasks      | elapsed:  7.1min\n",
      "[Parallel(n_jobs=-1)]: Done 1200 out of 1200 | elapsed: 11.0min finished\n"
     ]
    }
   ],
   "source": [
    "# Tune for better results\n",
    "\n",
    "from sklearn.model_selection import GridSearchCV\n",
    "\n",
    "# HyperTuning - Exhaust all options to try to understand which parameters work best when using random forest\n",
    "n_estimators = [10, 100, 300, 500]\n",
    "max_depth = [5, 8, 15, 25, 30]\n",
    "min_samples_split = [2, 5, 10, 15, 100]\n",
    "min_samples_leaf = [1, 2, 5, 10] \n",
    "\n",
    "hyperF = dict(n_estimators = n_estimators, max_depth = max_depth,  \n",
    "              min_samples_split = min_samples_split, \n",
    "             min_samples_leaf = min_samples_leaf)\n",
    "\n",
    "gridF = GridSearchCV(model_forest, hyperF, cv = 3, verbose = 1, \n",
    "                      n_jobs = -1)\n",
    "bestF = gridF.fit(x_train, y_train)\n"
   ]
  },
  {
   "cell_type": "code",
   "execution_count": 31,
   "metadata": {},
   "outputs": [
    {
     "name": "stdout",
     "output_type": "stream",
     "text": [
      "Test MAE: 18143.968002283105 \n",
      "Train MAE: 6508.0552054794525\n"
     ]
    }
   ],
   "source": [
    "# Print the Training Set Accuracy and the Test Set Accuracy in order to understand overfitting\n",
    "y_pred = bestF.predict(x_test)\n",
    "y_pred_train = gridF.predict(x_train)\n",
    "print(f\"Test MAE: {met.mean_absolute_error(y_test,y_pred)} \\nTrain MAE: {met.mean_absolute_error(y_train,y_pred_train)}\")"
   ]
  },
  {
   "cell_type": "markdown",
   "metadata": {},
   "source": [
    "# XGBoost\n",
    "<p>"
   ]
  },
  {
   "cell_type": "code",
   "execution_count": 18,
   "metadata": {},
   "outputs": [
    {
     "name": "stderr",
     "output_type": "stream",
     "text": [
      "/usr/local/lib/python3.7/site-packages/xgboost/core.py:587: FutureWarning: Series.base is deprecated and will be removed in a future version\n",
      "  if getattr(data, 'base', None) is not None and \\\n"
     ]
    },
    {
     "name": "stdout",
     "output_type": "stream",
     "text": [
      "MAE: 15345.447252247432\n"
     ]
    }
   ],
   "source": [
    "import xgboost as xgb\n",
    "\n",
    "xg_reg = xgb.XGBRegressor(objective = \"reg:squarederror\",\n",
    "        gamma=1,\n",
    "        max_depth=4, #default=6\n",
    "        min_child_weight=1, #default=1\n",
    "        subsample=1,\n",
    "        colsample_bytree=.5,\n",
    "        n_estimators = 1000,\n",
    "        learning_rate = .1  )\n",
    "\n",
    "xg_reg.fit(x_train,y_train)\n",
    "\n",
    "pred_xgb = xg_reg.predict(x_test)\n",
    "\n",
    "print(f\"MAE: {met.mean_absolute_error(y_test,pred_xgb)}\")"
   ]
  },
  {
   "cell_type": "markdown",
   "metadata": {},
   "source": [
    "# Neural Network - Basic Sklearn\n",
    "\n",
    "<p>"
   ]
  },
  {
   "cell_type": "code",
   "execution_count": 17,
   "metadata": {},
   "outputs": [
    {
     "name": "stdout",
     "output_type": "stream",
     "text": [
      "Adam: 40262.44520547945 \n",
      "sgd: 57700.27397260274 \n",
      "lbgfs: 65210.68493150685\n"
     ]
    }
   ],
   "source": [
    "# Try all 3 solvers for Neural Networks\n",
    "from sklearn.neural_network import MLPClassifier\n",
    "#Adam\n",
    "adam = MLPClassifier(solver = 'adam')\n",
    "adam.fit(x_train,y_train)\n",
    "pred_adam = adam.predict(x_test)\n",
    "adam_score = met.mean_absolute_error(y_test,pred_adam)\n",
    "# Print out how accuracy of each method in order to pick which ones will be used\n",
    "print(f\"Adam: {adam_score} \\nsgd: {sgd_score} \\nlbgfs: {lbgfs_score}\")"
   ]
  },
  {
   "cell_type": "code",
   "execution_count": 32,
   "metadata": {},
   "outputs": [
    {
     "name": "stderr",
     "output_type": "stream",
     "text": [
      "/usr/local/lib/python3.7/site-packages/pandas/core/frame.py:3940: SettingWithCopyWarning: \n",
      "A value is trying to be set on a copy of a slice from a DataFrame\n",
      "\n",
      "See the caveats in the documentation: http://pandas.pydata.org/pandas-docs/stable/indexing.html#indexing-view-versus-copy\n",
      "  errors=errors)\n"
     ]
    }
   ],
   "source": [
    "#Fit model to test set\n",
    "test.drop('SalePrice',inplace = True, axis =1)\n",
    "\n",
    "pred_RF = bestF.predict(test)\n",
    "pred_NN = adam.predict(test)\n",
    "pred_LG = model_linReg.predict(test_linReg)\n",
    "pred_XG = xg_reg.predict(test)"
   ]
  },
  {
   "cell_type": "code",
   "execution_count": 33,
   "metadata": {},
   "outputs": [],
   "source": [
    "# Creaete Table\n",
    "output_RF = pd.DataFrame( { 'id': test_ids['Id'], 'SalePrice': pred_RF} )\n",
    "\n",
    "output_NN = pd.DataFrame( { 'id': test_ids['Id'], 'SalePrice': pred_NN} )\n",
    "\n",
    "output_LG = pd.DataFrame( { 'id': test_ids['Id'], 'SalePrice': pred_LG} )\n",
    "\n",
    "output_XG = pd.DataFrame( { 'id': test_ids['Id'], 'SalePrice': pred_XG} )\n"
   ]
  },
  {
   "cell_type": "code",
   "execution_count": 34,
   "metadata": {},
   "outputs": [],
   "source": [
    "output_NN.to_csv('SupportingFiles/LG_submission.csv',index = False)\n",
    "output_NN.to_csv('SupportingFiles/NN_submission.csv',index = False)\n",
    "output_RF.to_csv('SupportingFiles/RF_submission.csv',index = False)\n",
    "output_XG.to_csv('SupportingFiles/XG_submission.csv',index = False)"
   ]
  }
 ],
 "metadata": {
  "kernelspec": {
   "display_name": "Python 3",
   "language": "python",
   "name": "python3"
  },
  "language_info": {
   "codemirror_mode": {
    "name": "ipython",
    "version": 3
   },
   "file_extension": ".py",
   "mimetype": "text/x-python",
   "name": "python",
   "nbconvert_exporter": "python",
   "pygments_lexer": "ipython3",
   "version": "3.7.4"
  }
 },
 "nbformat": 4,
 "nbformat_minor": 2
}
