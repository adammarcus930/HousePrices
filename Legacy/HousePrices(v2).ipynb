{
 "cells": [
  {
   "cell_type": "code",
   "execution_count": 28,
   "metadata": {},
   "outputs": [],
   "source": [
    "#import packages\n",
    "import numpy as np\n",
    "import matplotlib.pyplot as plt\n",
    "import pandas as pd\n",
    "import seaborn as sns\n",
    "from scipy import stats"
   ]
  },
  {
   "cell_type": "code",
   "execution_count": 39,
   "metadata": {},
   "outputs": [],
   "source": [
    "#Import data\n",
    "train = pd.read_csv('SupportingFiles/train.csv')\n",
    "test = pd.read_csv('SupportingFiles/test.csv')\n",
    "test_ids = test[[\"Id\"]]\n",
    "#combine so we dont have to adjust both sets\n",
    "combine =  pd.concat([train,test], sort = 'True')\n",
    "#Drop all Ids\n",
    "combine.drop(columns = ['Id'], inplace= True)\n",
    "#get independent variable for sale price\n",
    "y = train['SalePrice']"
   ]
  },
  {
   "cell_type": "markdown",
   "metadata": {},
   "source": [
    "# Data Cleaning\n",
    "<p>"
   ]
  },
  {
   "cell_type": "code",
   "execution_count": 40,
   "metadata": {},
   "outputs": [
    {
     "name": "stdout",
     "output_type": "stream",
     "text": [
      "Alley           93.216855\n",
      "BsmtCond         2.809181\n",
      "BsmtExposure     2.809181\n",
      "BsmtFinSF1       0.034258\n",
      "BsmtFinSF2       0.034258\n",
      "BsmtFinType1     2.706406\n",
      "BsmtFinType2     2.740665\n",
      "BsmtFullBath     0.068517\n",
      "BsmtHalfBath     0.068517\n",
      "BsmtQual         2.774923\n",
      "BsmtUnfSF        0.034258\n",
      "Electrical       0.034258\n",
      "Exterior1st      0.034258\n",
      "Exterior2nd      0.034258\n",
      "Fence           80.438506\n",
      "FireplaceQu     48.646797\n",
      "Functional       0.068517\n",
      "GarageArea       0.034258\n",
      "GarageCars       0.034258\n",
      "GarageCond       5.447071\n",
      "GarageFinish     5.447071\n",
      "GarageQual       5.447071\n",
      "GarageType       5.378554\n",
      "GarageYrBlt      5.447071\n",
      "KitchenQual      0.034258\n",
      "LotFrontage     16.649538\n",
      "MSZoning         0.137033\n",
      "MasVnrArea       0.787941\n",
      "MasVnrType       0.822199\n",
      "MiscFeature     96.402878\n",
      "PoolQC          99.657417\n",
      "SalePrice       49.982871\n",
      "SaleType         0.034258\n",
      "TotalBsmtSF      0.034258\n",
      "Utilities        0.068517\n",
      "dtype: float64\n"
     ]
    }
   ],
   "source": [
    "# Check to see what columsn contains null values\n",
    "nulls= combine.isnull().sum()/len(combine) * 100\n",
    "print(nulls[nulls > 0])"
   ]
  },
  {
   "cell_type": "code",
   "execution_count": 41,
   "metadata": {},
   "outputs": [],
   "source": [
    "# Nulls are replaced based on the text description file\n",
    "\n",
    "# Lot Frontage is repalced with median\n",
    "combine['LotFrontage'].fillna(train['LotFrontage'].median(), inplace=True)\n",
    "\n",
    "# Alley way nulls are replaced with \"None\"\n",
    "combine['Alley'].fillna('none',inplace=True)\n",
    "\n",
    "# Garage Year Built is replaced with yearbuilt if it is null\n",
    "combine['GarageYrBlt'].fillna(train['YearBuilt'], inplace=True)\n",
    "\n",
    "# Fill MasVnrARea with 0 and msnvnr type with none\n",
    "combine['MasVnrArea'].fillna(0, inplace=True)\n",
    "combine['MasVnrType'].fillna('none',inplace=True)\n",
    "\n",
    "# Change basement values to none\n",
    "combine['BsmtQual'].fillna('none',inplace=True)\n",
    "combine['BsmtCond'].fillna('none',inplace=True)\n",
    "combine['BsmtExposure'].fillna('none',inplace=True)\n",
    "combine['BsmtFinType1'].fillna('none',inplace=True)\n",
    "combine['BsmtFinType2'].fillna('none',inplace=True)\n",
    "\n",
    "# Electrical replace with mode\n",
    "combine['Electrical'].fillna(train['Electrical'].mode()[0], inplace=True)\n",
    "\n",
    "# Replace nulls with none for fireplace\n",
    "combine['FireplaceQu'].fillna('none',inplace=True)\n",
    "\n",
    "# Replace nulls with none for garage attributes\n",
    "combine['GarageType'].fillna('none',inplace=True)\n",
    "combine['GarageFinish'].fillna('none',inplace=True)\n",
    "combine['GarageQual'].fillna('none',inplace=True)\n",
    "combine['GarageCond'].fillna('none',inplace=True)\n",
    "\n",
    "# PoolQC nulls filled with none\n",
    "combine['PoolQC'].fillna('none',inplace=True)\n",
    "\n",
    "# Fence nulls filled with none\n",
    "combine['Fence'].fillna('none',inplace=True)\n",
    "\n",
    "# Miscellaneious feature nulls filled with none\n",
    "combine['MiscFeature'].fillna('none',inplace=True)\n",
    "\n",
    "# Others:\n",
    "combine['Utilities'].fillna(combine['Utilities'].mode()[0], inplace=True)\n",
    "combine['Exterior1st'].fillna(combine['Exterior1st'].mode()[0], inplace=True)\n",
    "combine['Exterior2nd'].fillna(combine['Exterior2nd'].mode()[0], inplace=True)\n",
    "combine['KitchenQual'].fillna(combine['KitchenQual'].mode()[0], inplace=True)\n",
    "combine['SaleType'].fillna(combine['SaleType'].mode()[0], inplace=True)\n",
    "combine['Functional'].fillna(combine['Functional'].mode()[0], inplace=True)\n",
    "combine['MSZoning'].fillna(combine['MSZoning'].mode()[0], inplace=True)\n",
    "combine['BsmtFinSF1'].fillna(combine['BsmtFinSF1'].median(), inplace=True)\n",
    "combine['BsmtFullBath'].fillna(combine['BsmtFullBath'].median(), inplace=True)\n",
    "combine['GarageCars'].fillna(combine['GarageCars'].mode()[0], inplace=True)\n",
    "combine['BsmtFinSF2'].fillna(combine['BsmtFinSF2'].median(), inplace=True)\n",
    "combine['BsmtHalfBath'].fillna(combine['BsmtHalfBath'].median(), inplace=True)\n",
    "combine['GarageArea'].fillna(combine['GarageArea'].mode()[0], inplace=True)\n",
    "combine['BsmtUnfSF'].fillna(combine['BsmtUnfSF'].median(), inplace=True)\n",
    "combine['TotalBsmtSF'].fillna(combine['TotalBsmtSF'].median(), inplace=True)"
   ]
  },
  {
   "cell_type": "code",
   "execution_count": 42,
   "metadata": {},
   "outputs": [
    {
     "name": "stdout",
     "output_type": "stream",
     "text": [
      "SalePrice    49.982871\n",
      "dtype: float64\n"
     ]
    }
   ],
   "source": [
    "# Check nulls again\n",
    "nulls= combine.isnull().sum()/len(combine) * 100\n",
    "print(nulls[nulls > 0])"
   ]
  },
  {
   "cell_type": "code",
   "execution_count": 43,
   "metadata": {},
   "outputs": [],
   "source": [
    "#Split Training data\n",
    "train = combine[combine['SalePrice'].notnull()]"
   ]
  },
  {
   "cell_type": "code",
   "execution_count": 44,
   "metadata": {},
   "outputs": [
    {
     "data": {
      "text/html": [
       "<div>\n",
       "<style scoped>\n",
       "    .dataframe tbody tr th:only-of-type {\n",
       "        vertical-align: middle;\n",
       "    }\n",
       "\n",
       "    .dataframe tbody tr th {\n",
       "        vertical-align: top;\n",
       "    }\n",
       "\n",
       "    .dataframe thead th {\n",
       "        text-align: right;\n",
       "    }\n",
       "</style>\n",
       "<table border=\"1\" class=\"dataframe\">\n",
       "  <thead>\n",
       "    <tr style=\"text-align: right;\">\n",
       "      <th></th>\n",
       "      <th>Correlation</th>\n",
       "    </tr>\n",
       "  </thead>\n",
       "  <tbody>\n",
       "    <tr>\n",
       "      <th>1stFlrSF</th>\n",
       "      <td>0.605852</td>\n",
       "    </tr>\n",
       "    <tr>\n",
       "      <th>Fireplaces</th>\n",
       "      <td>0.466929</td>\n",
       "    </tr>\n",
       "    <tr>\n",
       "      <th>FullBath</th>\n",
       "      <td>0.560664</td>\n",
       "    </tr>\n",
       "    <tr>\n",
       "      <th>GarageArea</th>\n",
       "      <td>0.623431</td>\n",
       "    </tr>\n",
       "    <tr>\n",
       "      <th>GarageCars</th>\n",
       "      <td>0.640409</td>\n",
       "    </tr>\n",
       "    <tr>\n",
       "      <th>GarageYrBlt</th>\n",
       "      <td>0.508043</td>\n",
       "    </tr>\n",
       "    <tr>\n",
       "      <th>GrLivArea</th>\n",
       "      <td>0.708624</td>\n",
       "    </tr>\n",
       "    <tr>\n",
       "      <th>MasVnrArea</th>\n",
       "      <td>0.472614</td>\n",
       "    </tr>\n",
       "    <tr>\n",
       "      <th>OverallQual</th>\n",
       "      <td>0.790982</td>\n",
       "    </tr>\n",
       "    <tr>\n",
       "      <th>SalePrice</th>\n",
       "      <td>1.000000</td>\n",
       "    </tr>\n",
       "    <tr>\n",
       "      <th>TotRmsAbvGrd</th>\n",
       "      <td>0.533723</td>\n",
       "    </tr>\n",
       "    <tr>\n",
       "      <th>TotalBsmtSF</th>\n",
       "      <td>0.613581</td>\n",
       "    </tr>\n",
       "    <tr>\n",
       "      <th>YearBuilt</th>\n",
       "      <td>0.522897</td>\n",
       "    </tr>\n",
       "    <tr>\n",
       "      <th>YearRemodAdd</th>\n",
       "      <td>0.507101</td>\n",
       "    </tr>\n",
       "  </tbody>\n",
       "</table>\n",
       "</div>"
      ],
      "text/plain": [
       "              Correlation\n",
       "1stFlrSF         0.605852\n",
       "Fireplaces       0.466929\n",
       "FullBath         0.560664\n",
       "GarageArea       0.623431\n",
       "GarageCars       0.640409\n",
       "GarageYrBlt      0.508043\n",
       "GrLivArea        0.708624\n",
       "MasVnrArea       0.472614\n",
       "OverallQual      0.790982\n",
       "SalePrice        1.000000\n",
       "TotRmsAbvGrd     0.533723\n",
       "TotalBsmtSF      0.613581\n",
       "YearBuilt        0.522897\n",
       "YearRemodAdd     0.507101"
      ]
     },
     "execution_count": 44,
     "metadata": {},
     "output_type": "execute_result"
    }
   ],
   "source": [
    "# Find Correlation of attributes to SalePrice\n",
    "traincorr = train.corr()['SalePrice']\n",
    "# convert series to dataframe so it can be sorted using pandas\n",
    "traincorr = pd.DataFrame(traincorr)\n",
    "# correct column label from SalePrice to correlation\n",
    "traincorr.columns = [\"Correlation\"]\n",
    "# Print out the attributes that are correlated to the \n",
    "traincorr_sig = traincorr[((traincorr['Correlation'] > .4) | (traincorr['Correlation'] < -.4)) & traincorr['Correlation'].notnull()]\n",
    "traincorr_sig"
   ]
  },
  {
   "cell_type": "markdown",
   "metadata": {},
   "source": [
    "# Simple Linear Regression\n",
    "The first attempt at predicting prices will be using simple linear regression to get a base result"
   ]
  },
  {
   "cell_type": "code",
   "execution_count": 35,
   "metadata": {},
   "outputs": [],
   "source": [
    "# Use only the values that are correlated with SalePrice\n",
    "train_linReg = train[traincorr_sig.index]"
   ]
  },
  {
   "cell_type": "code",
   "execution_count": 36,
   "metadata": {},
   "outputs": [],
   "source": [
    "# Get dummy variables for categorical data\n",
    "train_linReg = pd.get_dummies(train_linReg, drop_first = True)"
   ]
  },
  {
   "cell_type": "code",
   "execution_count": 37,
   "metadata": {},
   "outputs": [
    {
     "name": "stdout",
     "output_type": "stream",
     "text": [
      "MAE: 23021.7062348616\n"
     ]
    }
   ],
   "source": [
    "X = train_linReg.drop('SalePrice', axis =1)\n",
    "\n",
    "from sklearn.model_selection import train_test_split\n",
    "x_train, x_cv, y_train, y_cv = train_test_split(X,y, test_size =0.3)\n",
    "\n",
    "# Fitting multiple linear regression to training set\n",
    "from sklearn.linear_model import LinearRegression\n",
    "model = LinearRegression()\n",
    "model.fit(x_train,y_train)\n",
    "\n",
    "# Fit forest regssiotn to training set\n",
    "y_pred = model.predict(x_cv)\n",
    "\n",
    "import sklearn.metrics as met\n",
    "print(f\"MAE: {met.mean_absolute_error(y_cv,y_pred)}\")"
   ]
  },
  {
   "cell_type": "markdown",
   "metadata": {},
   "source": [
    "# Random Forest Regression"
   ]
  },
  {
   "cell_type": "code",
   "execution_count": 38,
   "metadata": {},
   "outputs": [],
   "source": [
    "# Get dummy variables for categorical data\n",
    "train_forReg = pd.get_dummies(train_linReg, drop_first = True)"
   ]
  },
  {
   "cell_type": "code",
   "execution_count": null,
   "metadata": {},
   "outputs": [],
   "source": [
    "# Fitting Random Forest Regression to the dataset\n",
    "from sklearn.ensemble import RandomForestRegressor\n",
    "\n",
    "# pick the the best amount of estimators for the model\n",
    "model_for = RandomForestRegressor(n_estimators = 10)\n",
    "model_for.fit(x_train,y_train)\n",
    "\n",
    "y_pred2 = model_for.predict(x_cv)\n",
    "print(mean_absolute_error(y_cv,y_pred2))"
   ]
  },
  {
   "cell_type": "code",
   "execution_count": 356,
   "metadata": {},
   "outputs": [
    {
     "name": "stdout",
     "output_type": "stream",
     "text": [
      "0.7969531255192451 0.7834681486300468\n",
      "0.970619341254852 0.8357042327970008\n"
     ]
    }
   ],
   "source": [
    "\n",
    "# Print the Training Set Accuracy and the Test Set Accuracy in order to understand overfitting\n",
    "print (model.score( x_train,  y_train ) , model.score( x_cv, y_cv))\n",
    "print (model_for.score( x_train,  y_train ) , model_for.score( x_cv, y_cv))"
   ]
  },
  {
   "cell_type": "code",
   "execution_count": 357,
   "metadata": {},
   "outputs": [],
   "source": [
    "#Fit model to test set\n",
    "test = combine[combine['SalePrice'].isnull()]\n",
    "test = test[traincorr_index]\n",
    "test.drop('SalePrice', axis =1, inplace = True)\n",
    "test=pd.get_dummies(test, drop_first = True)\n",
    "pred_test = model.predict(test)\n",
    "\n",
    "#Fit random forrest to test set\n",
    "pred_test_for = model_for.predict(test)\n"
   ]
  },
  {
   "cell_type": "code",
   "execution_count": 358,
   "metadata": {},
   "outputs": [
    {
     "name": "stdout",
     "output_type": "stream",
     "text": [
      "[ 96130.38818735 164755.17168341 171889.06221405 ... 179273.24614164\n",
      " 107478.07181373 246410.09024776]\n"
     ]
    }
   ],
   "source": [
    "print(pred_test)"
   ]
  },
  {
   "cell_type": "code",
   "execution_count": 362,
   "metadata": {},
   "outputs": [],
   "source": [
    "#Linear Regression\n",
    "output = pd.DataFrame( { 'id': test_IDs , 'SalePrice': pred_test} )\n",
    "output = output[['id', 'SalePrice']]\n",
    "\n",
    "# Forest Regression\n",
    "output2 = pd.DataFrame( { 'id': test_IDs , 'SalePrice': pred_test_for} )\n",
    "output2 = output2[['id', 'SalePrice']]"
   ]
  },
  {
   "cell_type": "code",
   "execution_count": 363,
   "metadata": {},
   "outputs": [],
   "source": [
    "output.to_csv('adam_submission.csv',index = False)\n",
    "output2.to_csv('adam_submission_for.csv',index = False)"
   ]
  },
  {
   "cell_type": "code",
   "execution_count": null,
   "metadata": {},
   "outputs": [],
   "source": []
  }
 ],
 "metadata": {
  "kernelspec": {
   "display_name": "Python 3",
   "language": "python",
   "name": "python3"
  },
  "language_info": {
   "codemirror_mode": {
    "name": "ipython",
    "version": 3
   },
   "file_extension": ".py",
   "mimetype": "text/x-python",
   "name": "python",
   "nbconvert_exporter": "python",
   "pygments_lexer": "ipython3",
   "version": "3.7.4"
  }
 },
 "nbformat": 4,
 "nbformat_minor": 2
}
